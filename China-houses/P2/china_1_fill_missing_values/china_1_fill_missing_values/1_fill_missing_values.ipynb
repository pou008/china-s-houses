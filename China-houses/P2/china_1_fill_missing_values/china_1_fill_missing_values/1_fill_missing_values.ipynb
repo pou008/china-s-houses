{
 "cells": [
  {
   "attachments": {},
   "cell_type": "markdown",
   "metadata": {},
   "source": [
    "<h1 align=center style=\"line-height:200%;font-family:vazir;color:#0099cc\">\n",
    "<font face=\"vazir\" color=\"#0099cc\">\n",
    "پر کردن مقادیر گم‌شده\n",
    "</font>\n",
    "</h1>\n",
    "\n",
    "<p dir=rtl style=\"direction: rtl;text-align: justify;line-height:200%;font-family:vazir;font-size:medium\">\n",
    "<font face=\"vazir\" size=3>\n",
    "در اولین گام از پروژه، با نحوه ی خواندن فایل‌هایی با کاراکتر‌های غیرمتداول آشنا می‌شویم، \n",
    "ویژگی‌های مختلف هر خانه را می‌بینیم و ویژگی‌هایی که به آن‌ها نیازی نداریم را حذف می‌کنیم. در ادامه تعداد سطرهای دارای مقادیر گم‌شده را به‌دست می‌آوریم و برای رفع آن‌ها چاره‌ای می‌اندیشیم.\n",
    "</font>\n",
    "</p>"
   ]
  },
  {
   "attachments": {},
   "cell_type": "markdown",
   "metadata": {},
   "source": [
    "<h2 align=right style=\"line-height:200%;font-family:vazir;color:#0099cc\">\n",
    "<font face=\"vazir\" color=\"#0099cc\">\n",
    "مجموعه‌داده\n",
    "</font>\n",
    "</h2>\n",
    "\n",
    "<p dir=rtl style=\"direction: rtl;text-align: justify;line-height:200%;font-family:vazir;font-size:medium\">\n",
    "<font face=\"vazir\" size=3>\n",
    "در فایل <code>housing_data.csv</code> اطلاعات خانه‌های شهر پکن در اختیار شما گرفته است.\n",
    "از آنجا که در این مجموعه‌داده کاراکترهای چینی وجود دارد و انکودر (Encoder) پیش‌فرض پانداز قادر به شناسایی آن‌ها نیست نیاز است تا صراحتاً انکودر مناسب این کار را مشخص کنیم. \n",
    " لیست کامل انکودر‌های قابل استفاده در پایتون در <a href=\" https://docs.python.org/3/library/codecs.html#standard-encodings\"> این لینک </a> آمده است.\n",
    "با این حال،‌ انکودری که ما به‌دنبال آن هستیم و از کاراکترهای چینی پشتیبانی می‌کند، <code>gbk</code> نام دارد. پس فایل مجموعه‌داده را به کمک این انکودر خوانده و حاصل را در متغیر <code>housing</code> ذخیره می‌کنیم.\n",
    "</font>\n",
    "</p>"
   ]
  },
  {
   "cell_type": "code",
   "execution_count": null,
   "metadata": {
    "colab": {
     "base_uri": "https://localhost:8080/"
    },
    "id": "YNr1VLVxlidw",
    "outputId": "3336573b-18bb-4070-a361-57db8668623b",
    "scrolled": true
   },
   "outputs": [],
   "source": [
    "import pandas as pd\n",
    "housing = pd.read_csv('housing_data.csv', encoding='gbk')"
   ]
  },
  {
   "attachments": {},
   "cell_type": "markdown",
   "metadata": {
    "id": "s52aPJ06ms5l"
   },
   "source": [
    "<p dir=rtl style=\"direction: rtl;text-align: justify;line-height:200%;font-family:vazir;font-size:medium\">\n",
    "<font face=\"vazir\" size=3>\n",
    "اکنون نگاهی به تعداد سطر و ستون مجموعه‌داده بیندازیم:\n",
    "</font>\n",
    "</p>"
   ]
  },
  {
   "cell_type": "code",
   "execution_count": null,
   "metadata": {
    "colab": {
     "base_uri": "https://localhost:8080/"
    },
    "id": "lhyVJNk5mv_e",
    "outputId": "b557c81e-ccfe-4bf4-a1fb-a898e68edae1",
    "scrolled": true
   },
   "outputs": [],
   "source": [
    "housing.shape"
   ]
  },
  {
   "attachments": {},
   "cell_type": "markdown",
   "metadata": {
    "id": "Vnx9TUUrmw9m"
   },
   "source": [
    "<p dir=rtl style=\"direction: rtl;text-align: justify;line-height:200%;font-family:vazir;font-size:medium\">\n",
    "<font face=\"vazir\" size=3>\n",
    "همان‌طور که مشاهده می‌کنید اطلاعات بیش از سیصدهزار خانه در این فایل ذخیره شده است. این‌بار با مجموعه‌داده‌ای نسبتاً سنگین سر و کار داریم.\n",
    "۱۰ ستون اول داده را ببینیم تا با اطلاعات ذخیره‌شده در این مجموعه‌داده بهتر آشنا شویم.</font>\n",
    "</p>"
   ]
  },
  {
   "cell_type": "code",
   "execution_count": null,
   "metadata": {
    "colab": {
     "base_uri": "https://localhost:8080/",
     "height": 558
    },
    "id": "7hSLFEvwnVBX",
    "outputId": "94dcccd6-57cc-4b4e-b44f-6651b4a9a54a",
    "scrolled": true
   },
   "outputs": [],
   "source": [
    "housing.head(5)"
   ]
  },
  {
   "attachments": {},
   "cell_type": "markdown",
   "metadata": {},
   "source": [
    "<p dir=rtl style=\"direction: rtl;text-align: justify;line-height:200%;font-family:vazir;font-size:medium\">\n",
    "<font face=\"vazir\" size=3>\n",
    "در جدول زیر هرکدام از ویژگی‌های خانه‌ها (ستون‌های دیتافریم) شرح داده شده است:\n",
    "</p>"
   ]
  },
  {
   "attachments": {},
   "cell_type": "markdown",
   "metadata": {
    "id": "3QLUzdDznaGb"
   },
   "source": [
    "<center>\n",
    "<table style=\"direction: rtl;align: center; text-align: justify;line-height:200%;font-family:vazir;font-size:medium\">\n",
    "  <tr>\n",
    "      <td><code>Unnamed: 0</code></td><td>نمایه‌ی داده‌هاست که نیازی به آن نداریم و باید حذف شود.</td>\n",
    "</tr>\n",
    "\n",
    "  <tr>\n",
    "      <td><code>url</code></td><td>لینک معامله</td>\n",
    "</tr>\n",
    " \n",
    "\n",
    "<tr>\n",
    "      <td><code>id</code></td><td>شناسه‌ی معامله</td>\n",
    "</tr>\n",
    " \n",
    "<tr>\n",
    "      <td><code>Lng</code></td><td>طول جغرافیایی خانه‌ی معامله شده</td>\n",
    "</tr>\n",
    " \n",
    "  \n",
    "<tr>\n",
    "      <td><code>Lat</code></td><td>عرض جغرافیایی خانه‌ی معامله شده</td>\n",
    "</tr>\n",
    " \n",
    "  \n",
    "<tr>\n",
    "      <td><code>Cid</code></td><td>شناسه‌ی خریدار</td>\n",
    "</tr>\n",
    " \n",
    "       \n",
    " \n",
    "<tr>\n",
    "      <td><code>tradeTime</code></td><td>زمان انجام معامله</td>\n",
    "</tr>    \n",
    "\n",
    " \n",
    "<tr>\n",
    "      <td><code>DOM</code></td><td>تعداد روزی که از زمان گذاشتن آگهی خانه می‌گذرد.</td>\n",
    "</tr>    \n",
    "\n",
    "<tr>\n",
    "      <td><code>totalPrice</code></td><td>قیمتی که خانه به فروش رفته است.</td>\n",
    "</tr>    \n",
    "  \n",
    "<tr>\n",
    "      <td><code>square</code></td><td>متراژ خانه</td>\n",
    "</tr>       \n",
    "\n",
    "<tr>\n",
    "      <td><code>livingRoom</code></td><td>تعداد اتاق نشیمن</td>\n",
    "</tr>       \n",
    "\n",
    "\n",
    "    \n",
    "<tr>\n",
    "      <td><code>drawingRoom</code></td><td>تعداد اتاق پذیرایی</td>\n",
    "</tr>       \n",
    "\n",
    "    \n",
    "    \n",
    "<tr>\n",
    "      <td><code>kitchen</code></td><td>تعداد آشپزخانه</td>\n",
    "</tr>       \n",
    "\n",
    "        \n",
    "<tr>\n",
    "      <td><code>bathRoom</code></td><td>تعداد حمام</td>\n",
    "</tr>       \n",
    "\n",
    "\n",
    "<tr>\n",
    "      <td><code>floor</code></td><td>طبقه و ارتفاع خانه</td>\n",
    "</tr>       \n",
    "\n",
    "    \n",
    "<tr>\n",
    "      <td><code>constructionTime</code></td><td>سال ساخت خانه</td>\n",
    "</tr>       \n",
    "  \n",
    "  \n",
    "    \n",
    "<tr>\n",
    "      <td><code>renovationCondition</code></td><td>وضعیت نوسازی خانه</td>\n",
    "</tr>       \n",
    "  \n",
    "    \n",
    "<tr>\n",
    "      <td><code>buildingStructure</code></td><td>ساختار خانه</td>\n",
    "</tr>       \n",
    "  \n",
    "\n",
    "<tr>\n",
    "      <td><code>ladderRatio</code></td><td>طبقه و ارتفاع خانه</td>\n",
    "</tr>             \n",
    "  \n",
    "<tr>\n",
    "      <td><code>elevator</code></td><td>خانه آسانسور دارد یا خیر</td>\n",
    "</tr>       \n",
    "  \n",
    "  \n",
    "<tr>\n",
    "      <td><code>subway</code></td><td>خانه به مترو دسترسی دارد یا خیر</td>\n",
    "</tr>    \n",
    "    \n",
    "  \n",
    "<tr>\n",
    "      <td><code>district</code></td><td>منطقه‌ای که خانه در آن قرار دارد</td>\n",
    "</tr>    \n",
    "    \n",
    "\n",
    "</table>\n",
    "\n",
    "</center>"
   ]
  },
  {
   "cell_type": "markdown",
   "metadata": {
    "id": "JBS8Gk_isDie"
   },
   "source": [
    "<h2 align=right style=\"line-height:200%;font-family:vazir;color:#0099cc\">\n",
    "<font face=\"vazir\" color=\"#0099cc\">\n",
    "قسمت اول\n",
    "</font>\n",
    "</h2>\n",
    "<p dir=rtl style=\"direction: rtl;text-align: right;line-height:200%;font-family:vazir;font-size:medium\">\n",
    "<font face=\"vazir\" size=3>\n",
    "ستون‌های <code>url</code>، <code>id</code>، <code>Cid</code> و ستون اول که نمایه‌ی داده‌ها بود را حذف کنید  و دیتافریم جدید را در متغیر <code>housing_dropped</code> ذخیره کنید.\n",
    "</font>\n",
    "</p>\n"
   ]
  },
  {
   "cell_type": "code",
   "execution_count": null,
   "metadata": {
    "id": "sx9KeILpnjno",
    "scrolled": true
   },
   "outputs": [],
   "source": [
    "housing_dropped = None # To-Do"
   ]
  },
  {
   "attachments": {},
   "cell_type": "markdown",
   "metadata": {
    "id": "pK7bn4sdwsV3"
   },
   "source": [
    "<h2 align=right style=\"line-height:200%;font-family:vazir;color:#0099cc\">\n",
    "<font face=\"vazir\" color=\"#0099cc\">\n",
    "قسمت دوم\n",
    "</font>\n",
    "</h2>\n",
    "<p dir=rtl style=\"direction: rtl;text-align: justify;line-height:200%;font-family:vazir;font-size:medium\">\n",
    "<font face=\"vazir\" size=3>\n",
    "یک دیتافریم به نام <code>housing_null</code> بسازید که در نمایه‌های آن نام ستون‌ها و در ستونی به نام <code>0</code>،‌ تعداد مقادیر گم‌شده‌ی آن ستون قرار گرفته باشد. پنج ردیف اول این دیتافریم به شکل زیر خواهد بود:\n",
    "</font>\n",
    "</p>\n",
    "\n",
    "<center>\n",
    "<p style=\"text-align: right;line-height:200%;font-family:vazir;font-size:medium\">\n",
    "\n",
    "| | <code>0</code> |\n",
    "| :---: | :---: |\n",
    "| <code>Lng</code> | 0 |\n",
    "| <code>Lat</code> | 0 |\n",
    "| <code>tradeTime</code> | 0 |\n",
    "| <code>DOM</code> | 157977 |\n",
    "| <code>totalPrice</code> | 0 |\n",
    "\n",
    "</p>\n",
    "<center>"
   ]
  },
  {
   "cell_type": "code",
   "execution_count": null,
   "metadata": {
    "colab": {
     "base_uri": "https://localhost:8080/",
     "height": 588
    },
    "id": "A-hZf01QukJQ",
    "outputId": "4ed36ad0-49cb-47ae-b5b4-e196041a13a7",
    "scrolled": true
   },
   "outputs": [],
   "source": [
    "housing_null = None # To-Do"
   ]
  },
  {
   "attachments": {},
   "cell_type": "markdown",
   "metadata": {
    "id": "xv-spjYxzdeN"
   },
   "source": [
    "<p dir=rtl style=\"direction: rtl;text-align: justify;line-height:200%;font-family:vazir;font-size:medium\">\n",
    "<font face=\"vazir\" size=3>\n",
    "ستون <code>DOM</code> که نشان‌دهنده‌ی تعداد روزهای قرار گرفتن آگهی بر روی سایت است، مقادیر گم‌‌شده‌ی بسیار زیادی دارد و اگر بخواهیم ردیف‌هایی که مقدار <code>DOM</code> آنها موجود نیست را حذف کنیم، تقریباً نیمی از داده‌های ما حذف خواهند شد! از طرفی این ویژگی نتایج مهمی را در مورد خانه‌ها در بر دارد و حذف ستون <code>DOM</code> کار معقولانه‌ای نیست.\n",
    "پس باید به فکر پر‌کردن مقادیر خالی این ستون باشیم.</font>\n",
    "</p>"
   ]
  },
  {
   "cell_type": "markdown",
   "metadata": {
    "id": "xtWYi7IBzry1"
   },
   "source": [
    "<p dir=rtl style=\"direction: rtl;text-align: justify;line-height:200%;font-family:vazir;font-size:medium\">\n",
    "<font face=\"vazir\" size=3>\n",
    "می‌توان از میانگین یا مد ستون برای پر کردن مقادیر خالی استفاده کرد. بیایید برای تصمیم‌گیری بهتر نگاهی به نمودار جعبه‌ای بیندازیم.\n",
    "</font>\n",
    "</p>\n"
   ]
  },
  {
   "cell_type": "code",
   "execution_count": null,
   "metadata": {
    "colab": {
     "base_uri": "https://localhost:8080/",
     "height": 286
    },
    "id": "0vUO6T4YuvYT",
    "outputId": "2a9e43c4-9949-4766-922c-3b39b9966923",
    "scrolled": true
   },
   "outputs": [],
   "source": [
    "housing_dropped.DOM.plot(kind = 'box')"
   ]
  },
  {
   "attachments": {},
   "cell_type": "markdown",
   "metadata": {
    "id": "efMJ3eKpzyNQ"
   },
   "source": [
    "<p dir=rtl style=\"direction: rtl;text-align: justify;line-height:200%;font-family:vazir;font-size:medium\">\n",
    "<font face=\"vazir\" size=3>\n",
    "متاسفانه اطلاعات پرت زیادی در این ستون قرار دارد. در این شرایط استفاده از مد گزینه‌ی بهتری خواهد بود. (برای آشنایی با انواع روش‌های کار با داده‌های گم‌شده،\n",
    "<a href=\"https://stackabuse.com/python-how-to-handle-missing-dataframe-values-in-pandas/\">این لینک</a>\n",
    "  را ببینید.)\n",
    "</font>\n",
    "</p>"
   ]
  },
  {
   "attachments": {},
   "cell_type": "markdown",
   "metadata": {
    "id": "4m7CT03Uz6ec"
   },
   "source": [
    "<p dir=rtl style=\"direction: rtl;text-align: justify;line-height:200%;font-family:vazir;font-size:medium\">\n",
    "<font face=\"vazir\" size=3>\n",
    "ابتدا به‌کمک متد <code>copy</code> یک کپی از دیتافریم اصلی می‌گیریم تا ادامه‌ی عملیات مدیریت مقادیر گم‌شده را بر روی آن انجام دهیم. نام این دیتافریم جدید را <code>housing_no_missing</code> می‌گذاریم.\n",
    "</font>\n",
    "</p>"
   ]
  },
  {
   "cell_type": "code",
   "execution_count": null,
   "metadata": {
    "id": "HFt1T-7Dz5id",
    "scrolled": true
   },
   "outputs": [],
   "source": [
    "housing_no_missing = housing_dropped.copy()"
   ]
  },
  {
   "attachments": {},
   "cell_type": "markdown",
   "metadata": {
    "id": "JN_j0PmF0KWw"
   },
   "source": [
    "<div dir=rtl id=\"start\" style=\"direction: rtl;text-align: justify;line-height:200%;font-family:vazir;font-size:medium\">\n",
    "\t<font face=\"vazir\" size=3>\n",
    "دیتافریم جدید دقیقاً مانند دیتافریم قبلی است و با تغییر آن، دیتافریم اصلی تغییر نمی‌کند (اگر از تابع <code>copy</code> استفاده نمی‌کردیم، با تغییر دیتافریم جدید، هر دو فایل تغییر می‌کرد).\n",
    "</div>\n"
   ]
  },
  {
   "attachments": {},
   "cell_type": "markdown",
   "metadata": {
    "id": "6tck4LGH2Vvu"
   },
   "source": [
    "<h2 align=right style=\"line-height:200%;font-family:vazir;color:#0099cc\">\n",
    "<font face=\"vazir\" color=\"#0099cc\">\n",
    "قسمت سوم\n",
    "</font>\n",
    "</h2>\n",
    "<p dir=rtl style=\"direction: rtl;text-align: justify;line-height:200%;font-family:vazir;font-size:medium\">\n",
    "<font face=\"vazir\" size=3>\n",
    "در دیتافریم <code>housing_no_missing</code> مقادیر خالی ستون <code>DOM</code> را با مقدار مد این ستون جایگزین کنید.  پس از آن سطرهایی که مقدار <code>elevator</code> یا <code>subway</code> آن‌ها خالی است را حذف کنید.\n",
    "</font>\n",
    "</p>"
   ]
  },
  {
   "cell_type": "code",
   "execution_count": null,
   "metadata": {
    "id": "oo0Zcx1qzzZZ",
    "scrolled": true
   },
   "outputs": [],
   "source": [
    "housing_no_missing = None # to do"
   ]
  },
  {
   "attachments": {},
   "cell_type": "markdown",
   "metadata": {},
   "source": [
    "\n",
    "<div dir=rtl id=\"start\" style=\"direction: rtl;text-align: justify;line-height:200%;font-family:vazir;font-size:medium\">\n",
    "\t<font face=\"vazir\" size=3>\n",
    "اگر قسمت سوم را درست حل کرده باشید، دیتافریم <code>housing_no_missing</code> باید ۳۱۸۸۱۹ سطر داشته باشد و نباید هیچ‌کدام از ستون‌ها، مقدار گم‌شده داشته باشد.</div>\n"
   ]
  },
  {
   "cell_type": "code",
   "execution_count": null,
   "metadata": {
    "scrolled": true
   },
   "outputs": [],
   "source": [
    "housing_no_missing.info()"
   ]
  },
  {
   "attachments": {},
   "cell_type": "markdown",
   "metadata": {
    "id": "JGqoAI6f2feM"
   },
   "source": [
    "<p dir=rtl style=\"direction: rtl;text-align: justify;line-height:200%;font-family:vazir;font-size:medium\">\n",
    "<font face=\"vazir\" size=3>\n",
    "پس از انجام این عملیات دیگر داده‌ی گم‌شده‌ای نداریم و می‌توانیم به گام بعدی پروژه برویم. در گام بعد از دیتافریم <code>housing_no_missing</code> استفاده خواهیم کرد. دقت کنید که هنگام ذخیره فایل بر روی دیسک هم باید انکودری انتخاب کنیم که قادر به شناسایی همه کاراکتر‌های دیتافریم باشد.\n",
    "</font>\n",
    "</p>\n"
   ]
  },
  {
   "cell_type": "code",
   "execution_count": null,
   "metadata": {
    "id": "a9tOkgKH2tuG",
    "scrolled": true
   },
   "outputs": [],
   "source": [
    "housing_no_missing.to_csv('housing_no_missing.csv', encoding='gbk', index=False)"
   ]
  },
  {
   "attachments": {},
   "cell_type": "markdown",
   "metadata": {},
   "source": [
    "<h2 align=right style=\"line-height:200%;font-family:vazir;color:#0099cc\">\n",
    "<font face=\"vazir\" color=\"#0099cc\">\n",
    "<b>سلول جواب‌ساز</b>\n",
    "</font>\n",
    "</h2>\n",
    "\n",
    "\n",
    "<p dir=rtl style=\"direction: rtl; text-align: justify; line-height:200%; font-family:vazir; font-size:medium\">\n",
    "<font face=\"vazir\" size=3>\n",
    "    برای ساخته‌شدن فایل <code>result.zip</code> سلول زیر را اجرا کنید. توجه داشته باشید که پیش از اجرای سلول زیر تغییرات اعمال شده در نت‌بوک را ذخیره کرده باشید (<code>ctrl+s</code>) تا در صورت نیاز به پشتیبانی امکان بررسی کد شما وجود داشته باشد.\n",
    "</font>\n",
    "</p>"
   ]
  },
  {
   "cell_type": "code",
   "execution_count": null,
   "metadata": {
    "scrolled": true
   },
   "outputs": [],
   "source": [
    "import zipfile\n",
    "import joblib\n",
    "import numpy as np\n",
    "\n",
    "np.save(\"housing_dropped_cols\", np.array(housing_dropped.columns.to_list()))\n",
    "np.save(\"housing_null\", housing_null.to_numpy())\n",
    "np.save(\"housing_no_missing_DOM\", housing_no_missing['DOM'].to_numpy())\n",
    "\n",
    "def compress(file_names):\n",
    "    print(\"File Paths:\")\n",
    "    print(file_names)\n",
    "    compression = zipfile.ZIP_DEFLATED\n",
    "    with zipfile.ZipFile(\"result.zip\", mode=\"w\") as zf:\n",
    "        for file_name in file_names:\n",
    "            zf.write('./' + file_name, file_name, compress_type=compression)\n",
    "\n",
    "file_names = [\"housing_dropped_cols.npy\", \"housing_null.npy\", \"housing_no_missing_DOM.npy\", \"1_fill_missing_values.ipynb\"]\n",
    "compress(file_names)"
   ]
  }
 ],
 "metadata": {
  "colab": {
   "name": "step1.ipynb",
   "provenance": []
  },
  "kernelspec": {
   "display_name": "Python 3",
   "language": "python",
   "name": "python3"
  },
  "language_info": {
   "codemirror_mode": {
    "name": "ipython",
    "version": 3
   },
   "file_extension": ".py",
   "mimetype": "text/x-python",
   "name": "python",
   "nbconvert_exporter": "python",
   "pygments_lexer": "ipython3",
   "version": "3.12.1"
  },
  "vscode": {
   "interpreter": {
    "hash": "44e7e1b8fa2096bd5707ed7fd18b1724a2db25f4c565a7673f8b6e7bfc49d25d"
   }
  }
 },
 "nbformat": 4,
 "nbformat_minor": 2
}
